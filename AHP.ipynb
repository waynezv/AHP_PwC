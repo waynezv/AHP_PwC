{
 "cells": [
  {
   "cell_type": "markdown",
   "metadata": {},
   "source": [
    "# Audio base Human Profiling\n",
    "----\n",
    "For PwC project demo.\n",
    "\n",
    "Gender, age, height etc. prediction; lying detection."
   ]
  },
  {
   "cell_type": "markdown",
   "metadata": {},
   "source": [
    "## Summary"
   ]
  },
  {
   "cell_type": "markdown",
   "metadata": {},
   "source": [
    "## Update 11/06/2017\n",
    "\n",
    "### Age prediction with openSMILE features\n",
    "\n",
    "1. OpenSMILE feature extraction\n",
    "    1. Using Interspeech 2013 configuration [*6374 dim*]: [Computational Paralinguistics Challenge -- Social Signals, Conflict, Emotion, Autism](http://emotion-research.net/sigs/speech-sig/is2013_compare.pdf)\n",
    "    \n",
    "    [Schuller, Björn, et al. \"The INTERSPEECH 2013 computational paralinguistics challenge: social signals, conflict, emotion, autism.\" (2013).]\n",
    "    ```bash\n",
    "bash smile_feature_extractor.sh -c ./opensmile-2.3.0/config/IS13_ComParE.conf -f ./timit_test_wavlist.ctl -i ../data_root/timit -o timit_opensmile_feat -t temp\n",
    "    ```\n",
    "2. Age, hight regression\n",
    "    1. SVR\n",
    "\n",
    "| kernel | C, $\\epsilon$ | AGE MAE | HEIGHT MAE |\n",
    "|:------:|--------------:|--------:|-----------:|\n",
    "| linear | 1, 0.2 | | |\n",
    "| | 10, 0.2 | | |\n",
    "| | 100, 0.2 | | |\n",
    "| poly (3) | 1, 0.2 | X | |\n",
    "| | 10, 0.2 | X | |\n",
    "| | 100, 0.2 | X | |\n",
    "| rbf | 1, 0.2 | 5.6196 | 0.2431 |\n",
    "| | 10, 0.2 | 5.7384 | 0.2431 |\n",
    "| | 100, 0.2 | 5.9475 | 0.2431 |\n",
    "| | 0.1, 0.1 | 5.6244 | 0.2434 |\n",
    "\n",
    "    \n",
    "    2. NN"
   ]
  }
 ],
 "metadata": {
  "kernelspec": {
   "display_name": "Python 2",
   "language": "python",
   "name": "python2"
  },
  "language_info": {
   "codemirror_mode": {
    "name": "ipython",
    "version": 2
   },
   "file_extension": ".py",
   "mimetype": "text/x-python",
   "name": "python",
   "nbconvert_exporter": "python",
   "pygments_lexer": "ipython2",
   "version": "2.7.12"
  }
 },
 "nbformat": 4,
 "nbformat_minor": 2
}
